{
  "nbformat": 4,
  "nbformat_minor": 0,
  "metadata": {
    "kernelspec": {
      "display_name": "Python 3",
      "language": "python",
      "name": "python3"
    },
    "language_info": {
      "codemirror_mode": {
        "name": "ipython",
        "version": 3
      },
      "file_extension": ".py",
      "mimetype": "text/x-python",
      "name": "python",
      "nbconvert_exporter": "python",
      "pygments_lexer": "ipython3",
      "version": "3.8.3-final"
    },
    "colab": {
      "name": "Lin Algebra _ Activity 4 ",
      "provenance": [],
      "include_colab_link": true
    }
  },
  "cells": [
    {
      "cell_type": "markdown",
      "metadata": {
        "id": "view-in-github",
        "colab_type": "text"
      },
      "source": [
        "<a href=\"https://colab.research.google.com/github/nicanorjimenez/Linear-Algebra-week-4-Lab/blob/main/Lin_Algebra___Activity_4.ipynb\" target=\"_parent\"><img src=\"https://colab.research.google.com/assets/colab-badge.svg\" alt=\"Open In Colab\"/></a>"
      ]
    },
    {
      "cell_type": "markdown",
      "metadata": {
        "id": "0gjyPA1JKtdS"
      },
      "source": [
        "# Linear Algebra for CpE\n",
        "## Laboratory 4 : Vector Operations"
      ]
    },
    {
      "cell_type": "markdown",
      "metadata": {
        "id": "iH6HK15uKtdX"
      },
      "source": [
        "Now that you have a fundamental knowledge about linear combination, we'll try to apply the fundamental operations"
      ]
    },
    {
      "cell_type": "markdown",
      "metadata": {
        "id": "ocioHyMQKtdY"
      },
      "source": [
        "### Objectives\n",
        "At the end of this activity you will be able to:\n",
        "1. Referesh knowledge on vector operations while being familiar with new operations such as products.\n",
        "2. Visualize vector operations.\n",
        "3. Perform vector operations using Python."
      ]
    },
    {
      "cell_type": "markdown",
      "metadata": {
        "id": "H12RzFWIKtdY"
      },
      "source": [
        "## Discussion"
      ]
    },
    {
      "cell_type": "code",
      "metadata": {
        "id": "KXJ82gYQKtdY"
      },
      "source": [
        "import numpy as np"
      ],
      "execution_count": null,
      "outputs": []
    },
    {
      "cell_type": "markdown",
      "metadata": {
        "id": "wil6uzDcKtdZ"
      },
      "source": [
        "We have dealt with some of the vector operations in the last module, now we will dwell into more operations. In this laboratory, we will tackle addition,multiplication,division and the inner product of a vector."
      ]
    },
    {
      "cell_type": "markdown",
      "metadata": {
        "id": "wPO82O4hKtdZ"
      },
      "source": [
        "## Vector Addition"
      ]
    },
    {
      "cell_type": "markdown",
      "metadata": {
        "id": "ulK053qqKtdZ"
      },
      "source": [
        "We have encountered vector before especially with your last activity. Vector addition is simply the element-wise addition of the scalar values of the vectors. Let's take the following vectors as a sample:\n",
        "\n",
        "$$A = \\begin{bmatrix}1\\\\2\\\\0\\end{bmatrix}, B= \\begin{bmatrix}3\\\\1\\\\-2 \\end{bmatrix}$$\n",
        "\n",
        "So if do a vector addition of these two vectors we'll get:\n",
        "\n",
        "$$A + B = \\begin{bmatrix}4\\\\3\\\\-2\\end{bmatrix}$$\n",
        "\n",
        "We can progammatically solve this using `np.add()` or simply using `+`."
      ]
    },
    {
      "cell_type": "code",
      "metadata": {
        "id": "jOnYm-YrKtdZ"
      },
      "source": [
        "A = np.array([1,2,0])\n",
        "B = np.array([3,1,-2])\n",
        "C = np.array([0,0,1])"
      ],
      "execution_count": null,
      "outputs": []
    },
    {
      "cell_type": "code",
      "metadata": {
        "id": "Id_OTsfrKtda",
        "colab": {
          "base_uri": "https://localhost:8080/"
        },
        "outputId": "536de7d8-bc14-4374-c186-5a669b5ec29b"
      },
      "source": [
        "A+B+C"
      ],
      "execution_count": null,
      "outputs": [
        {
          "output_type": "execute_result",
          "data": {
            "text/plain": [
              "array([ 4,  3, -1])"
            ]
          },
          "metadata": {
            "tags": []
          },
          "execution_count": 7
        }
      ]
    },
    {
      "cell_type": "code",
      "metadata": {
        "id": "OSdg5AJuKtdb",
        "colab": {
          "base_uri": "https://localhost:8080/"
        },
        "outputId": "80f9b9e2-eb34-4525-a7bd-19f568e10025"
      },
      "source": [
        "np.add(A,np.add(B,C))"
      ],
      "execution_count": null,
      "outputs": [
        {
          "output_type": "execute_result",
          "data": {
            "text/plain": [
              "array([ 4,  3, -1])"
            ]
          },
          "metadata": {
            "tags": []
          },
          "execution_count": 11
        }
      ]
    },
    {
      "cell_type": "code",
      "metadata": {
        "colab": {
          "base_uri": "https://localhost:8080/"
        },
        "id": "U9ZbuWL77MdP",
        "outputId": "4ea7d762-fa14-4c3d-fc60-4f134072c259"
      },
      "source": [
        "np.sum(B)"
      ],
      "execution_count": null,
      "outputs": [
        {
          "output_type": "execute_result",
          "data": {
            "text/plain": [
              "2"
            ]
          },
          "metadata": {
            "tags": []
          },
          "execution_count": 13
        }
      ]
    },
    {
      "cell_type": "markdown",
      "metadata": {
        "id": "hcmngHMmKtdb"
      },
      "source": [
        "## Vector Subtraction"
      ]
    },
    {
      "cell_type": "markdown",
      "metadata": {
        "id": "YLJmSSG0Ktdb"
      },
      "source": [
        "Vector subtraction is similar to your vector addition but you would need to scale the second vector using a negative scalar that is usuall $-1$. So if we subtract vector $B$ from vector $A$ we get:\n",
        "\n",
        "$$A-B = \\begin{bmatrix}-2\\\\1\\\\2\\end{bmatrix}$$\n",
        "\n",
        "In Python, this can be achieved by using `np.subtract()` or `-`"
      ]
    },
    {
      "cell_type": "code",
      "metadata": {
        "id": "mrAGvr5gKtdb",
        "colab": {
          "base_uri": "https://localhost:8080/"
        },
        "outputId": "8838f93f-3194-4e7f-c9d7-b3d08cb61f6c"
      },
      "source": [
        "np.subtract(A,B)"
      ],
      "execution_count": null,
      "outputs": [
        {
          "output_type": "execute_result",
          "data": {
            "text/plain": [
              "array([-2,  1,  2])"
            ]
          },
          "metadata": {
            "tags": []
          },
          "execution_count": 14
        }
      ]
    },
    {
      "cell_type": "code",
      "metadata": {
        "id": "S2bPjOFUKtdc",
        "colab": {
          "base_uri": "https://localhost:8080/"
        },
        "outputId": "ba0c7a62-982b-4f9a-b57a-f5a457b3aa81"
      },
      "source": [
        "A-B"
      ],
      "execution_count": null,
      "outputs": [
        {
          "output_type": "execute_result",
          "data": {
            "text/plain": [
              "array([-2,  1,  2])"
            ]
          },
          "metadata": {
            "tags": []
          },
          "execution_count": 15
        }
      ]
    },
    {
      "cell_type": "markdown",
      "metadata": {
        "id": "bWdtUj7OKtdc"
      },
      "source": [
        "## Vector Multiplication"
      ]
    },
    {
      "cell_type": "markdown",
      "metadata": {
        "id": "pgcB5oNyKtdc"
      },
      "source": [
        "Vector multiplication, like addition does its operations element-wise. So basic vector multiplication can be achieved by multiplying the elements or the scalars of the vectors individually. So:\n",
        "$$A * B = \\begin{bmatrix}3\\\\2\\\\0\\end{bmatrix}$$\n",
        "We can implement this in code by using `np.multiply()` or simply operating with `*`."
      ]
    },
    {
      "cell_type": "code",
      "metadata": {
        "id": "ep8YyQDmKtdd",
        "colab": {
          "base_uri": "https://localhost:8080/"
        },
        "outputId": "138b6498-3a42-4680-d424-9fa0051d06a6"
      },
      "source": [
        "np.multiply(A,B)"
      ],
      "execution_count": null,
      "outputs": [
        {
          "output_type": "execute_result",
          "data": {
            "text/plain": [
              "array([3, 2, 0])"
            ]
          },
          "metadata": {
            "tags": []
          },
          "execution_count": 16
        }
      ]
    },
    {
      "cell_type": "code",
      "metadata": {
        "id": "GWygp8gkKtdd",
        "colab": {
          "base_uri": "https://localhost:8080/"
        },
        "outputId": "d31ffc1f-ff64-4f30-a56f-ca95b3c281f6"
      },
      "source": [
        "A*B"
      ],
      "execution_count": null,
      "outputs": [
        {
          "output_type": "execute_result",
          "data": {
            "text/plain": [
              "array([3, 2, 0])"
            ]
          },
          "metadata": {
            "tags": []
          },
          "execution_count": 17
        }
      ]
    },
    {
      "cell_type": "markdown",
      "metadata": {
        "id": "Nva_5geWKtdd"
      },
      "source": [
        "## Vector Division"
      ]
    },
    {
      "cell_type": "markdown",
      "metadata": {
        "id": "gbPLif1CKtdd"
      },
      "source": [
        "Dividing a vector by another is uncommon, but if the situation specifies that each elements or scalars of the vector would be divided individually we can perform this by:\n",
        "$$A./B = \\begin{bmatrix}\\frac{1}{3}\\\\2\\\\0\\end{bmatrix}$$\n",
        "Take note that the notation we used here is $./$ for element-wise division, this notation is based in a MATLab notation for element-wise division. This can be achieved in Python using `np.divide()` or `/`."
      ]
    },
    {
      "cell_type": "code",
      "metadata": {
        "id": "i503AW8uKtdd",
        "colab": {
          "base_uri": "https://localhost:8080/"
        },
        "outputId": "02426a09-0f85-47f2-cfeb-23045c1febc0"
      },
      "source": [
        "np.divide(A,B)"
      ],
      "execution_count": null,
      "outputs": [
        {
          "output_type": "execute_result",
          "data": {
            "text/plain": [
              "array([ 0.33333333,  2.        , -0.        ])"
            ]
          },
          "metadata": {
            "tags": []
          },
          "execution_count": 18
        }
      ]
    },
    {
      "cell_type": "code",
      "metadata": {
        "id": "un6jrygRKtdg",
        "colab": {
          "base_uri": "https://localhost:8080/"
        },
        "outputId": "4cd07cc5-66a0-49bf-99f9-9aa58df76cd7"
      },
      "source": [
        "A/B"
      ],
      "execution_count": null,
      "outputs": [
        {
          "output_type": "execute_result",
          "data": {
            "text/plain": [
              "array([ 0.33333333,  2.        , -0.        ])"
            ]
          },
          "metadata": {
            "tags": []
          },
          "execution_count": 19
        }
      ]
    },
    {
      "cell_type": "code",
      "metadata": {
        "colab": {
          "base_uri": "https://localhost:8080/"
        },
        "id": "3cHXU6VN732O",
        "outputId": "db2c2cff-5ab2-4f76-dd85-8dad1afb712c"
      },
      "source": [
        "C = np.array([3.9,1.8,7.7])\r\n",
        "D = np.array([1,1,1])\r\n",
        "C//D"
      ],
      "execution_count": null,
      "outputs": [
        {
          "output_type": "execute_result",
          "data": {
            "text/plain": [
              "array([3., 1., 7.])"
            ]
          },
          "metadata": {
            "tags": []
          },
          "execution_count": 26
        }
      ]
    },
    {
      "cell_type": "code",
      "metadata": {
        "colab": {
          "base_uri": "https://localhost:8080/"
        },
        "id": "eG5bfGlZ7a9Z",
        "outputId": "820053b0-cd30-4576-d8f7-f8c09cf79a8f"
      },
      "source": [
        "np.array(A/B,dtype=int)"
      ],
      "execution_count": null,
      "outputs": [
        {
          "output_type": "execute_result",
          "data": {
            "text/plain": [
              "array([0, 2, 0])"
            ]
          },
          "metadata": {
            "tags": []
          },
          "execution_count": 22
        }
      ]
    },
    {
      "cell_type": "markdown",
      "metadata": {
        "id": "e96oBq1nKtdg"
      },
      "source": [
        "## Modulus of a Vector"
      ]
    },
    {
      "cell_type": "markdown",
      "metadata": {
        "id": "fOmYCOHEKtdg"
      },
      "source": [
        "The modulus of a vector or the magnitude of a vector can be determined using the Pythagorean theorem. Given the vector $A$ and its scalars denoted as $a_n$ where $n$ is the index of the scalar. So if we have:\n",
        "$$A = \\begin{bmatrix}1\\\\2\\end{bmatrix}$$\n",
        "We can compute the magnitude as:\n",
        "$$||A|| = \\sqrt{a_1^2 + a_2^2} = \\sqrt{1^2 + 2^2} = \\sqrt{5}$$\n",
        "So if we have a matrix with more parameters such as:\n",
        "$$B=\\begin{bmatrix}2\\\\5\\\\-1\\\\0\\end{bmatrix}$$\n",
        "We can generalize the Pythagorean theorem to compute for the magnitude as:\n",
        "$$||B|| = \\sqrt{b_1^2 + b_2^2 + b_3^2 + ... +b_n^2} = \\sqrt{\\sum_{n=1}^{N}b_n^2}$$\n",
        "And this equation is now called a Euclidian distance or the Euclidean Norm. We can implement this explicitly by for loops or using `np.linalg.norm()` to get the Euclidian Norm."
      ]
    },
    {
      "cell_type": "code",
      "metadata": {
        "id": "kcBJB76oKtdh"
      },
      "source": [
        "A = np.array([1,2])\n",
        "B = np.array([2,5,-1,0])"
      ],
      "execution_count": null,
      "outputs": []
    },
    {
      "cell_type": "code",
      "metadata": {
        "id": "ABdM9ETAKtdh",
        "colab": {
          "base_uri": "https://localhost:8080/"
        },
        "outputId": "845b0e27-f452-4f0a-edb4-d6a4bbf9e50a"
      },
      "source": [
        "np.linalg.norm(A)"
      ],
      "execution_count": null,
      "outputs": [
        {
          "output_type": "execute_result",
          "data": {
            "text/plain": [
              "2.23606797749979"
            ]
          },
          "metadata": {
            "tags": []
          },
          "execution_count": 27
        }
      ]
    },
    {
      "cell_type": "code",
      "metadata": {
        "id": "if7rRjUHKtdh",
        "colab": {
          "base_uri": "https://localhost:8080/"
        },
        "outputId": "0dd49305-3015-4b3b-fd9b-36e20f61e00f"
      },
      "source": [
        "np.linalg.norm(B)"
      ],
      "execution_count": null,
      "outputs": [
        {
          "output_type": "execute_result",
          "data": {
            "text/plain": [
              "3.7416573867739413"
            ]
          },
          "metadata": {
            "tags": []
          },
          "execution_count": 29
        }
      ]
    },
    {
      "cell_type": "markdown",
      "metadata": {
        "id": "9CqMVpT2Ktdh"
      },
      "source": [
        "## Vector Dot Product / Inner Product"
      ]
    },
    {
      "cell_type": "markdown",
      "metadata": {
        "id": "Yqk9nR9GKtdh"
      },
      "source": [
        "The inner product of a vector is the sum of the products of each elements of the vectors. So given vectors $H$ and $G$ below:\n",
        "$$H=\\begin{bmatrix}1\\\\3\\\\6\\end{bmatrix}, G = \\begin{bmatrix}5\\\\2\\\\1\\end{bmatrix}$$\n",
        "We first take the element-wise product of the vectors:\n",
        "$$H*G = \\begin{bmatrix}5\\\\6\\\\6\\end{bmatrix}$$\n",
        "Then we take the sum of the products, making it the inner product of a vector:\n",
        "$$H\\cdot G = 17$$\n",
        "You can solve for the inner product using an explicit function, `np.inner()` or the `@` operator."
      ]
    },
    {
      "cell_type": "code",
      "metadata": {
        "id": "ZWwwV0F9Ktdh"
      },
      "source": [
        "H = np.array([1,3,6])\n",
        "G = np.array([5,2,1])"
      ],
      "execution_count": null,
      "outputs": []
    },
    {
      "cell_type": "code",
      "metadata": {
        "id": "D3nyuLCBKtdi",
        "outputId": "987cb409-6bcc-40b9-fea2-780e5a9c6f64"
      },
      "source": [
        "np.inner(H,G)"
      ],
      "execution_count": null,
      "outputs": [
        {
          "output_type": "execute_result",
          "data": {
            "text/plain": [
              "17"
            ]
          },
          "metadata": {
            "tags": []
          },
          "execution_count": 50
        }
      ]
    },
    {
      "cell_type": "code",
      "metadata": {
        "id": "NsrPudsKKtdi",
        "colab": {
          "base_uri": "https://localhost:8080/"
        },
        "outputId": "1063ffa4-fe48-4644-ff0c-8f31580193a3"
      },
      "source": [
        "np.linalg.norm(H)"
      ],
      "execution_count": null,
      "outputs": [
        {
          "output_type": "execute_result",
          "data": {
            "text/plain": [
              "6.782329983125268"
            ]
          },
          "metadata": {
            "tags": []
          },
          "execution_count": 35
        }
      ]
    },
    {
      "cell_type": "code",
      "metadata": {
        "colab": {
          "base_uri": "https://localhost:8080/"
        },
        "id": "fRN3M2UN9WPm",
        "outputId": "e5a2b892-f87b-47f3-eefe-3f047b60dfec"
      },
      "source": [
        "np.sqrt(H@H)"
      ],
      "execution_count": null,
      "outputs": [
        {
          "output_type": "execute_result",
          "data": {
            "text/plain": [
              "6.782329983125268"
            ]
          },
          "metadata": {
            "tags": []
          },
          "execution_count": 37
        }
      ]
    },
    {
      "cell_type": "markdown",
      "metadata": {
        "id": "As11de-AKtdi"
      },
      "source": [
        "## Activity"
      ]
    },
    {
      "cell_type": "markdown",
      "metadata": {
        "id": "g6my9m9OKtdi"
      },
      "source": [
        "### Task 1"
      ]
    },
    {
      "cell_type": "markdown",
      "metadata": {
        "id": "yP-XW99JKtdi"
      },
      "source": [
        "Make an explicit function (not using any of NumPy's preset functions) solving the modulus of a vector using the Euclidian Norm formula: \n",
        "$$||X|| = \\sqrt{\\sum_{n=1}^{N}x_n^2}$$\n",
        "Create a program flowchart for your algorithm and explain it in your methodology. Create 6 different vectors which their element count should not be lower than 4 elements. Explain the results at the results discussion section while comparing them to the `np.linalg.norm()` function."
      ]
    },
    {
      "cell_type": "code",
      "metadata": {
        "id": "IuoG8l9mKtdj",
        "colab": {
          "base_uri": "https://localhost:8080/"
        },
        "outputId": "1603b08e-7e82-4f03-bcf8-0219001d3130"
      },
      "source": [
        "import numpy as np\r\n",
        "import math\r\n",
        "\r\n",
        "def euc_nm(sq_first): #created function used to get equation for euclidean norm\r\n",
        "  sq_first = [x**2 for x in sq_first]#to get the square of the elements\r\n",
        "  sum_first = sum(sq_first)#to summarize of elements\r\n",
        "  sqrt_first = math.sqrt(sum_first)#to get the square root of the vector\r\n",
        "  print(f'The Euclidean norm of the vector is {sqrt_first}')\r\n",
        "  \r\n",
        "  \r\n",
        "\r\n",
        "first_en = np.array([2, 4, 6, 8])#siting vectors\r\n",
        "euc_q1 = euc_nm(first_en)\r\n",
        "print(\"+++++++++++++++++++++++++++++++++++++++\")#divider for the answers\r\n",
        "second_en = np.array([5, 8, 9, 1])\r\n",
        "euc_q2 = euc_nm(second_en)\r\n",
        "print(\"+++++++++++++++++++++++++++++++++++++++\")\r\n",
        "third_en = np.array([10, 18, 20, 11])\r\n",
        "euc_q3 = euc_nm(third_en)\r\n",
        "print(\"+++++++++++++++++++++++++++++++++++++++\")\r\n",
        "fourth_en = np.array([1, 3, 6, 9, 11])\r\n",
        "euc_q4 = euc_nm(fourth_en)\r\n",
        "print(\"+++++++++++++++++++++++++++++++++++++++\")\r\n",
        "fifth_en = np.array([5, 7, 9, 11, 14])\r\n",
        "euc_q5 = euc_nm(fifth_en)\r\n",
        "print(\"+++++++++++++++++++++++++++++++++++++++\")\r\n",
        "sixth_en = np.array([15, 27, 39, 41, 54])\r\n",
        "euc_q6 = euc_nm(sixth_en)\r\n",
        "\r\n"
      ],
      "execution_count": null,
      "outputs": [
        {
          "output_type": "stream",
          "text": [
            "The Euclidean norm of the vector is 10.954451150103322\n",
            "+++++++++++++++++++++++++++++++++++++++\n",
            "The Euclidean norm of the vector is 13.076696830622021\n",
            "+++++++++++++++++++++++++++++++++++++++\n",
            "The Euclidean norm of the vector is 30.740852297878796\n",
            "+++++++++++++++++++++++++++++++++++++++\n",
            "The Euclidean norm of the vector is 15.748015748023622\n",
            "+++++++++++++++++++++++++++++++++++++++\n",
            "The Euclidean norm of the vector is 21.72556098240043\n",
            "+++++++++++++++++++++++++++++++++++++++\n",
            "The Euclidean norm of the vector is 84.09518416651456\n"
          ],
          "name": "stdout"
        }
      ]
    },
    {
      "cell_type": "code",
      "metadata": {
        "colab": {
          "base_uri": "https://localhost:8080/"
        },
        "id": "6pKK5lxTEEZq",
        "outputId": "4ae0ad9f-3018-40d5-ef31-ed0f8b6e2f3e"
      },
      "source": [
        "print(np.linalg.norm(first_en))#for comparing my answers\r\n",
        "print(\"++++++++++++++++++++\")\r\n",
        "print(np.linalg.norm(second_en))\r\n",
        "print(\"++++++++++++++++++++\")\r\n",
        "print(np.linalg.norm(third_en))\r\n",
        "print(\"++++++++++++++++++++\")\r\n",
        "print(np.linalg.norm(fourth_en))\r\n",
        "print(\"++++++++++++++++++++\")\r\n",
        "print(np.linalg.norm(fifth_en))\r\n",
        "print(\"++++++++++++++++++++\")\r\n",
        "print(np.linalg.norm(sixth_en))\r\n",
        "print(\"++++++++++++++++++++\")"
      ],
      "execution_count": null,
      "outputs": [
        {
          "output_type": "stream",
          "text": [
            "10.954451150103322\n",
            "++++++++++++++++++++\n",
            "13.076696830622021\n",
            "++++++++++++++++++++\n",
            "30.740852297878796\n",
            "++++++++++++++++++++\n",
            "15.748015748023622\n",
            "++++++++++++++++++++\n",
            "21.72556098240043\n",
            "++++++++++++++++++++\n",
            "84.09518416651456\n",
            "++++++++++++++++++++\n"
          ],
          "name": "stdout"
        }
      ]
    },
    {
      "cell_type": "markdown",
      "metadata": {
        "id": "AXjJp6KXKtdj"
      },
      "source": [
        "### Task 2"
      ]
    },
    {
      "cell_type": "markdown",
      "metadata": {
        "id": "Skoy_JdlKtdj"
      },
      "source": [
        "Make an explicit function (not using any of NumPy's preset functions nor the `@` operator) solving the inner product of two vectors using the inner product formula: \n",
        "$$A\\cdot B = \\sum_{n=1}^{N} a_n \\times b_n $$\n",
        "$$whereas: N = len(A) = len(B)$$\n",
        "Create a program flowchart for your algorithm and explain it in your methodology. Create 5 distinct pairs vectors which their element count should not be lower than 5 elements. Explain the results at the results discussion section while comparing them to the `np.inner()` function."
      ]
    },
    {
      "cell_type": "code",
      "metadata": {
        "id": "F_bWvCI8Ktdj",
        "colab": {
          "base_uri": "https://localhost:8080/"
        },
        "outputId": "db8e4f58-ebb1-4a04-c65a-848534da8fa3"
      },
      "source": [
        "import numpy as np #for arrays\r\n",
        "def in_dot(v1, v2): #created function to get dot product\r\n",
        "  return sum(x*y for x,y in zip(v1,v2))#equation to multiply and get sum of vectors\r\n",
        "\r\n",
        "c_dot=np.array([2, 5, 7, 8, 2]) #siting vectors\r\n",
        "d_dot=np.array([3, 4, 5, 2, 7])\r\n",
        "sum_1 = in_dot(c_dot, d_dot)\r\n",
        "print(f\"first result of dot product is {sum_1}\")#print out answers\r\n",
        "print(\"+++++++++++++++++++++++++++++++++++++++\") #divider for answers\r\n",
        "e_dot = np.array([2, 5, 3, 21, 2])\r\n",
        "f_dot = np.array([12, 6, 4, 8, 27])\r\n",
        "sum_2 = in_dot(e_dot, f_dot)\r\n",
        "print(f\"second result of dot product is {sum_2}\")\r\n",
        "print(\"+++++++++++++++++++++++++++++++++++++++\")\r\n",
        "g_dot = np.array([3, 15, 3, 1, -2])\r\n",
        "h_dot = np.array([11, 16, 4, 8, 4])\r\n",
        "sum_3 = in_dot(g_dot, h_dot)\r\n",
        "print(f\"third result of dot product is {sum_3}\")\r\n",
        "print(\"+++++++++++++++++++++++++++++++++++++++\")\r\n",
        "i_dot = np.array([11, 25, 3, 1, 32])\r\n",
        "j_dot = np.array([7, 1, 14, 18, 6])\r\n",
        "sum_4 = in_dot(i_dot, j_dot)\r\n",
        "print(f\"fourth result of dot product is {sum_4}\")\r\n",
        "print(\"+++++++++++++++++++++++++++++++++++++++\")\r\n",
        "k_dot = np.array([11, 85, 13, 21, 3])\r\n",
        "l_dot = np.array([72, 1, 64, 8, 7])\r\n",
        "sum_5 = in_dot(k_dot, l_dot)\r\n",
        "print(f\"fifth result of dot product is {sum_5}\")"
      ],
      "execution_count": null,
      "outputs": [
        {
          "output_type": "stream",
          "text": [
            "first result of dot product is 91\n",
            "+++++++++++++++++++++++++++++++++++++++\n",
            "second result of dot product is 288\n",
            "+++++++++++++++++++++++++++++++++++++++\n",
            "third result of dot product is 285\n",
            "+++++++++++++++++++++++++++++++++++++++\n",
            "fourth result of dot product is 354\n",
            "+++++++++++++++++++++++++++++++++++++++\n",
            "fifth result of dot product is 1898\n"
          ],
          "name": "stdout"
        }
      ]
    },
    {
      "cell_type": "code",
      "metadata": {
        "colab": {
          "base_uri": "https://localhost:8080/"
        },
        "id": "zVvTG3C0F607",
        "outputId": "7a260d58-86d7-4924-f148-9c28c6f8ca64"
      },
      "source": [
        "print(np.inner(c_dot,d_dot))#for comparing answers\r\n",
        "print(\"+++++++++++++++++++++++++++++++++++++++\") \r\n",
        "print(np.inner(e_dot,f_dot))\r\n",
        "print(\"+++++++++++++++++++++++++++++++++++++++\") \r\n",
        "print(np.inner(g_dot,h_dot))\r\n",
        "print(\"+++++++++++++++++++++++++++++++++++++++\") \r\n",
        "print(np.inner(i_dot,j_dot))\r\n",
        "print(\"+++++++++++++++++++++++++++++++++++++++\") \r\n",
        "print(np.inner(k_dot,l_dot))\r\n",
        "\r\n"
      ],
      "execution_count": null,
      "outputs": [
        {
          "output_type": "stream",
          "text": [
            "91\n",
            "+++++++++++++++++++++++++++++++++++++++\n",
            "288\n",
            "+++++++++++++++++++++++++++++++++++++++\n",
            "285\n",
            "+++++++++++++++++++++++++++++++++++++++\n",
            "354\n",
            "+++++++++++++++++++++++++++++++++++++++\n",
            "1898\n"
          ],
          "name": "stdout"
        }
      ]
    },
    {
      "cell_type": "markdown",
      "metadata": {
        "id": "6qWPdvHaKtdj"
      },
      "source": [
        "### Task 3"
      ]
    },
    {
      "cell_type": "markdown",
      "metadata": {
        "id": "pnHTuNSnKtdj"
      },
      "source": [
        "Code the following vector operation and solve them using the given vector values"
      ]
    },
    {
      "cell_type": "markdown",
      "metadata": {
        "id": "8h7haB7TKtdj"
      },
      "source": [
        "$$ ((A^2 + B^2 + C^2) * (A * (B + A*B)./C))*||A + B + C||$$\n",
        "$$A = \\begin{bmatrix}-0.4\\\\4.3\\\\-0.6\\end{bmatrix}, B = \\begin{bmatrix}-0.2\\\\0.2\\\\1\\end{bmatrix}, C = \\begin{bmatrix}-0.2\\\\2.1\\\\-1.5\\end{bmatrix}$$"
      ]
    },
    {
      "cell_type": "markdown",
      "metadata": {
        "id": "sH6IXNvAKtdk"
      },
      "source": [
        "Create a program flowchart for your algorithm and explain it in your methodology. In your results, compare your answer to the expected output, visualize, and explain the resulting vector using a 3D plot."
      ]
    },
    {
      "cell_type": "code",
      "metadata": {
        "colab": {
          "base_uri": "https://localhost:8080/",
          "height": 314
        },
        "id": "Bq0tH12rHSFo",
        "outputId": "c69b7832-98fa-4e2e-c1fe-7c53203f40e2"
      },
      "source": [
        "import numpy as np#for equation and array\r\n",
        "import matplotlib.pyplot as plt#for 3-D plotting\r\n",
        "\r\n",
        "A = np.array([-0.4, 4.3, -0.6])#site given vectors\r\n",
        "B = np.array([-0.2, 0.2, 1])\r\n",
        "C = np.array([-0.2, 2.1, -1.5])\r\n",
        "\r\n",
        "\r\n",
        "A_eq = A**2+B**2+C**2#for equation A\r\n",
        "print(A_eq)\r\n",
        "B_eq = (A*(B+A*B)/C)#for Equation B\r\n",
        "print(B_eq)\r\n",
        "C_eq = np.linalg.norm(A)+np.linalg.norm(B)+np.linalg.norm(C)#For equation C\r\n",
        "print(C_eq)\r\n",
        "\r\n",
        "D_eq1 = A_eq * B_eq * C_eq#to get equation for plotting\r\n",
        "print(D_eq1)\r\n",
        "\r\n",
        "#3-D plotting\r\n",
        "ax = plt.axes(projection='3d')\r\n",
        "zline = np.linspace(-0.4,398,4)\r\n",
        "xline = np.sin(zline)\r\n",
        "yline = np.cos(zline)\r\n",
        "ax.plot3D(xline, yline, zline, 'red')\r\n",
        "plt.show()\r\n",
        "\r\n",
        "\r\n",
        "\r\n",
        "\r\n"
      ],
      "execution_count": null,
      "outputs": [
        {
          "output_type": "stream",
          "text": [
            "[ 0.24 22.94  3.61]\n",
            "[-0.24        2.17047619  0.16      ]\n",
            "7.987712176968612\n",
            "[ -0.46009222 397.71397087   4.61370255]\n"
          ],
          "name": "stdout"
        },
        {
          "output_type": "display_data",
          "data": {
            "image/png": "[encoded data removed]",
            "text/plain": [
              "<Figure size 432x288 with 1 Axes>"
            ]
          },
          "metadata": {
            "tags": [],
            "needs_background": "light"
          }
        }
      ]
    },
    {
      "cell_type": "markdown",
      "metadata": {
        "id": "izU2vRWtKtdk"
      },
      "source": [
        "## Conclusion guide"
      ]
    },
    {
      "cell_type": "markdown",
      "metadata": {
        "id": "B2IBZHkIKtdk"
      },
      "source": [
        "For your conclusion synthesize the concept and application of the laboratory. Briefly discuss what you have learned and achieved in this activity. "
      ]
    }
  ]
}